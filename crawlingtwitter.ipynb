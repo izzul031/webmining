{
  "nbformat": 4,
  "nbformat_minor": 0,
  "metadata": {
    "colab": {
      "provenance": [],
      "mount_file_id": "18TvGt6Va95pUWoiTkU2w_nSg2ztam-S1",
      "authorship_tag": "ABX9TyPZYlzE1IHuIlWAhV4s6D2g",
      "include_colab_link": true
    },
    "kernelspec": {
      "name": "python3",
      "display_name": "Python 3"
    },
    "language_info": {
      "name": "python"
    }
  },
  "cells": [
    {
      "cell_type": "markdown",
      "metadata": {
        "id": "view-in-github",
        "colab_type": "text"
      },
      "source": [
        "<a href=\"https://colab.research.google.com/github/izzul031/webmining/blob/main/crawlingtwitter.ipynb\" target=\"_parent\"><img src=\"https://colab.research.google.com/assets/colab-badge.svg\" alt=\"Open In Colab\"/></a>"
      ]
    },
    {
      "cell_type": "markdown",
      "source": [
        "**Data Preparation**\n",
        "\n",
        "**Import Packages**\n",
        "\n",
        "\n",
        "\n",
        "\n",
        "Packages yang digunakan untuk mengambil data dari Twitter API dapat menggunakan packages tweepy. Tweepy adalah packages open source yang dapat memberikan kenyamanan untuk mengakses API Twitter dengan Python. Tweepy menyertakan satu set kelas dan metode yang mewakili model Twitter dan titik akhir API, dan secara transparan menangani berbagai detail implementasi, seperti encoding dan decoding data."
      ],
      "metadata": {
        "id": "miac-uL_iU0L"
      }
    },
    {
      "cell_type": "code",
      "source": [
        "import tweepy as tw\n",
        "import time\n",
        "import re\n",
        "import pandas as pd\n",
        "from textblob import TextBlob\n"
      ],
      "metadata": {
        "id": "Is1vo6hxjK4l"
      },
      "execution_count": 34,
      "outputs": []
    },
    {
      "cell_type": "markdown",
      "source": [
        "**Authenticate the Twitter API with Tweepy**\n",
        "\n",
        "Sebelum autentikasi Twitter API, kita perlu membuat persetujuan akun developer Twitter untuk mendapatkan kode yang diperlukan untuk autentikasi akun kita. Setelah akun disetujui, kita akan mendapatkan kredensial Twitter API. Kita perlu kode pada api_key, api_key_secret, access_token, dan access_token_secret agar dapat menghubungkan Twitter API menggunakan Tweepy"
      ],
      "metadata": {
        "id": "P_qcnTlGjoHe"
      }
    },
    {
      "cell_type": "code",
      "source": [
        "api_key = \"QDrlndEGr9fJdpEdqbMjpnniZ\"\n",
        "api_key_secret = \"W3JEDNE2XCPraE2nbl7WEb7ezddFXQmb2EVFTHbdlcqQkSdbZz\"\n",
        "access_token = \"1129560698499940352-hNepoSDGAe8uKUy7cUQuNQF9BqIoA1\"\n",
        "access_token_secret = \"lkKOubcUrf719JdVhdcGUe0ZyWn7hXD9j5ePiJ7g7rwta\""
      ],
      "metadata": {
        "id": "vIPIzXNakgrd"
      },
      "execution_count": 35,
      "outputs": []
    },
    {
      "cell_type": "code",
      "source": [
        "auth = tw.OAuthHandler(\"QDrlndEGr9fJdpEdqbMjpnniZ\", \"W3JEDNE2XCPraE2nbl7WEb7ezddFXQmb2EVFTHbdlcqQkSdbZz\")\n",
        "auth.set_access_token(\"1129560698499940352-hNepoSDGAe8uKUy7cUQuNQF9BqIoA1\", \"lkKOubcUrf719JdVhdcGUe0ZyWn7hXD9j5ePiJ7g7rwta\")\n",
        "api = tw.API(auth)"
      ],
      "metadata": {
        "id": "mHJiswgplAFm"
      },
      "execution_count": 36,
      "outputs": []
    },
    {
      "cell_type": "markdown",
      "source": [
        "**Searching Data Twitter**"
      ],
      "metadata": {
        "id": "ZaxxPBD-p0Fj"
      }
    },
    {
      "cell_type": "code",
      "source": [
        "search_term = (\"Bjorka\")\n",
        "tweet_search = api.search(q=search_term, lang=\"id\",count=200, tweet_mode = \"extended\")"
      ],
      "metadata": {
        "id": "9BUso9fjy-5k"
      },
      "execution_count": null,
      "outputs": []
    },
    {
      "cell_type": "code",
      "source": [
        "data_search =[]\n",
        "\n",
        "for teks in tweet_search:\n",
        "    teks_properties= {}\n",
        "    teks_properties[\"Tanggal\"]=teks.created_at\n",
        "    teks_properties[\"Pengguna\"]=teks.user.screen_name\n",
        "    teks_clean = ' '.join(re.sub(\"(@[A-Za-z0-9]+)\",\" \",teks.full_text).split())\n",
        "    teks_properties[\"Tweet\"]= teks_clean\n",
        "\n",
        "    analysis = TextBlob(teks_clean)\n",
        "    if analysis.sentiment.polarity > 0.0:\n",
        "      teks_properties[\"Sentimen\"]= 'Positif'\n",
        "    elif analysis.sentiment.polarity == 0.0:\n",
        "      teks_properties[\"Sentimen\"]= 'Netral'\n",
        "    else:\n",
        "      teks_properties[\"Sentimen\"]= 'Negatif'\n",
        "\n",
        "    if teks.retweet_count > 0:\n",
        "        if teks_properties not in data_search:\n",
        "            data_search.append(teks_properties)\n",
        "    else:\n",
        "        data_search.append(teks_properties)\n",
        "        \n",
        "data_search"
      ],
      "metadata": {
        "id": "0rLfvR4wqAO-"
      },
      "execution_count": null,
      "outputs": []
    },
    {
      "cell_type": "markdown",
      "source": [
        "Converting Search Result to Pandas Dataframe"
      ],
      "metadata": {
        "id": "ZfSqu-noqXm2"
      }
    },
    {
      "cell_type": "code",
      "source": [
        "df = pd.DataFrame(data_search)\n",
        "df"
      ],
      "metadata": {
        "id": "nVd4m8ugqc9-"
      },
      "execution_count": null,
      "outputs": []
    }
  ]
}